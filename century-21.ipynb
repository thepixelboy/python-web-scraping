{
 "cells": [
  {
   "cell_type": "code",
   "execution_count": 1,
   "id": "4cb6d3b8-d369-4599-9555-9b5ae3ecf2fc",
   "metadata": {},
   "outputs": [],
   "source": [
    "import requests\n",
    "from bs4 import BeautifulSoup"
   ]
  },
  {
   "cell_type": "code",
   "execution_count": 3,
   "id": "196c8be4-9581-4c7d-a9ad-c2c294be8d55",
   "metadata": {},
   "outputs": [],
   "source": [
    "r = requests.get(\"https://pythonizing.github.io/data/real-estate/rock-springs-wy/LCWYROCKSPRINGS/\")\n",
    "c = r.content"
   ]
  },
  {
   "cell_type": "code",
   "execution_count": null,
   "id": "0ebe5f23-ceae-4964-87d3-e26606b98f1c",
   "metadata": {},
   "outputs": [],
   "source": [
    "soup = BeautifulSoup(c, \"html.parser\")"
   ]
  }
 ],
 "metadata": {
  "kernelspec": {
   "display_name": "Python 3 (ipykernel)",
   "language": "python",
   "name": "python3"
  },
  "language_info": {
   "codemirror_mode": {
    "name": "ipython",
    "version": 3
   },
   "file_extension": ".py",
   "mimetype": "text/x-python",
   "name": "python",
   "nbconvert_exporter": "python",
   "pygments_lexer": "ipython3",
   "version": "3.10.0"
  }
 },
 "nbformat": 4,
 "nbformat_minor": 5
}
