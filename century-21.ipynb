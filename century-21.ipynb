{
 "cells": [
  {
   "cell_type": "code",
   "execution_count": 1,
   "id": "4cb6d3b8-d369-4599-9555-9b5ae3ecf2fc",
   "metadata": {},
   "outputs": [],
   "source": [
    "import requests\n",
    "from bs4 import BeautifulSoup\n",
    "\n",
    "r = requests.get(\"https://pythonizing.github.io/data/real-estate/rock-springs-wy/LCWYROCKSPRINGS/\")\n",
    "c = r.content"
   ]
  },
  {
   "cell_type": "code",
   "execution_count": 3,
   "id": "196c8be4-9581-4c7d-a9ad-c2c294be8d55",
   "metadata": {},
   "outputs": [],
   "source": []
  },
  {
   "cell_type": "code",
   "execution_count": 4,
   "id": "0ebe5f23-ceae-4964-87d3-e26606b98f1c",
   "metadata": {},
   "outputs": [],
   "source": [
    "soup = BeautifulSoup(c, \"html.parser\")"
   ]
  },
  {
   "cell_type": "code",
   "execution_count": 9,
   "id": "16032579-9e3b-4a73-b7d0-f4ab57a429ee",
   "metadata": {},
   "outputs": [],
   "source": [
    "all_properties = soup.find_all(\"div\", {\"class\": \"propertyRow\"})"
   ]
  },
  {
   "cell_type": "code",
   "execution_count": 16,
   "id": "6722020f-a1bd-4b0d-a3f1-4539521257a5",
   "metadata": {},
   "outputs": [
    {
     "data": {
      "text/plain": [
       "'$725,000'"
      ]
     },
     "execution_count": 16,
     "metadata": {},
     "output_type": "execute_result"
    }
   ],
   "source": [
    "all_properties[0].find(\"h4\", {\"class\": \"propPrice\"}).text.replace(\"\\n\", \"\").replace(\" \", \"\")"
   ]
  },
  {
   "cell_type": "code",
   "execution_count": null,
   "id": "d1f4becc-7515-49a4-ac7a-d5dff53d7678",
   "metadata": {},
   "outputs": [],
   "source": []
  }
 ],
 "metadata": {
  "kernelspec": {
   "display_name": "Python 3 (ipykernel)",
   "language": "python",
   "name": "python3"
  },
  "language_info": {
   "codemirror_mode": {
    "name": "ipython",
    "version": 3
   },
   "file_extension": ".py",
   "mimetype": "text/x-python",
   "name": "python",
   "nbconvert_exporter": "python",
   "pygments_lexer": "ipython3",
   "version": "3.10.0"
  }
 },
 "nbformat": 4,
 "nbformat_minor": 5
}
