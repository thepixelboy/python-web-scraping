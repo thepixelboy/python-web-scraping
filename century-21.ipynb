{
 "cells": [
  {
   "cell_type": "code",
   "execution_count": 17,
   "id": "4cb6d3b8-d369-4599-9555-9b5ae3ecf2fc",
   "metadata": {},
   "outputs": [],
   "source": [
    "import requests\n",
    "from bs4 import BeautifulSoup\n",
    "\n",
    "r = requests.get(\"https://pythonizing.github.io/data/real-estate/rock-springs-wy/LCWYROCKSPRINGS/\")\n",
    "c = r.content\n",
    "\n",
    "soup = BeautifulSoup(c, \"html.parser\")\n",
    "\n",
    "all_properties = soup.find_all(\"div\", {\"class\": \"propertyRow\"})"
   ]
  },
  {
   "cell_type": "code",
   "execution_count": 18,
   "id": "6722020f-a1bd-4b0d-a3f1-4539521257a5",
   "metadata": {},
   "outputs": [
    {
     "data": {
      "text/plain": [
       "'$725,000'"
      ]
     },
     "execution_count": 18,
     "metadata": {},
     "output_type": "execute_result"
    }
   ],
   "source": [
    "all_properties[0].find(\"h4\", {\"class\": \"propPrice\"}).text.replace(\"\\n\", \"\").replace(\" \", \"\")"
   ]
  },
  {
   "cell_type": "code",
   "execution_count": 36,
   "id": "d1f4becc-7515-49a4-ac7a-d5dff53d7678",
   "metadata": {},
   "outputs": [
    {
     "name": "stdout",
     "output_type": "stream",
     "text": [
      "$725,000\n",
      "0 Gateway. Rock Springs, WY 82901\n",
      "3\n",
      "1,664\n",
      "2\n",
      "1\n",
      " \n",
      "$452,900\n",
      "1003 Winchester Blvd.. Rock Springs, WY 82901\n",
      "4\n",
      "1,664\n",
      "4\n",
      "1\n",
      " \n",
      "$396,900\n",
      "600 Talladega. Rock Springs, WY 82901\n",
      "5\n",
      "3,154\n",
      "3\n",
      "1\n",
      " \n",
      "$389,900\n",
      "3239 Spearhead Way. Rock Springs, WY 82901\n",
      "4\n",
      "3,076\n",
      "3\n",
      "1\n",
      " \n",
      "$254,000\n",
      "522 Emerald Street. Rock Springs, WY 82901\n",
      "3\n",
      "1,172\n",
      "3\n",
      "1\n",
      " \n",
      "$252,900\n",
      "1302 Veteran's Drive. Rock Springs, WY 82901\n",
      "4\n",
      "1,932\n",
      "2\n",
      "1\n",
      " \n",
      "$210,000\n",
      "1021 Cypress Cir. Rock Springs, WY 82901\n",
      "4\n",
      "1,676\n",
      "3\n",
      "1\n",
      " \n",
      "$209,000\n",
      "913 Madison Dr. Rock Springs, WY 82901\n",
      "3\n",
      "1,344\n",
      "2\n",
      "1\n",
      " \n",
      "$199,900\n",
      "1344 Teton Street. Rock Springs, WY 82901\n",
      "3\n",
      "1,920\n",
      "2\n",
      "1\n",
      " \n",
      "$196,900\n",
      "4 Minnies Lane. Rock Springs, WY 82901\n",
      "3\n",
      "1,664\n",
      "2\n",
      "1\n",
      " \n"
     ]
    }
   ],
   "source": [
    "for property in all_properties:\n",
    "    print(property.find(\"h4\", {\"class\": \"propPrice\"}).text.replace(\"\\n\", \"\").replace(\" \", \"\"))\n",
    "    print(property.find_all(\"span\", {\"class\": \"propAddressCollapse\"})[0].text + \". \" + property.find_all(\"span\", {\"class\": \"propAddressCollapse\"})[1].text)\n",
    "    \n",
    "    try:\n",
    "        print(property.find(\"span\", {\"class\": \"infoBed\"}).find(\"b\").text)\n",
    "    except:\n",
    "        print(None)\n",
    "        \n",
    "    try:\n",
    "        print(property.find(\"span\", {\"class\": \"infoSqFt\"}).find(\"b\").text)\n",
    "    except:\n",
    "        ...\n",
    "        \n",
    "    try:\n",
    "        print(property.find(\"span\", {\"class\": \"infoValueFullBath\"}).find(\"b\").text)\n",
    "    except:\n",
    "        ...\n",
    "        \n",
    "    try:\n",
    "        print(property.find(\"span\", {\"class\": \"infoValueHalfBath\"}).find(\"b\").text\n",
    "    except:\n",
    "        ...\n",
    "        \n",
    "    print(price)\n",
    "    print(address)\n",
    "    print(beds)\n",
    "    print(surface)\n",
    "    print(full_bath)\n",
    "    print(half_bath)\n",
    "    print(\" \")\n",
    "    "
   ]
  },
  {
   "cell_type": "code",
   "execution_count": null,
   "id": "5008a630-594e-40e5-9b14-06e6fc97da59",
   "metadata": {},
   "outputs": [],
   "source": []
  }
 ],
 "metadata": {
  "kernelspec": {
   "display_name": "Python 3 (ipykernel)",
   "language": "python",
   "name": "python3"
  },
  "language_info": {
   "codemirror_mode": {
    "name": "ipython",
    "version": 3
   },
   "file_extension": ".py",
   "mimetype": "text/x-python",
   "name": "python",
   "nbconvert_exporter": "python",
   "pygments_lexer": "ipython3",
   "version": "3.10.0"
  }
 },
 "nbformat": 4,
 "nbformat_minor": 5
}
